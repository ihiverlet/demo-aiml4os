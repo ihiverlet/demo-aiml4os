{
 "cells": [
  {
   "cell_type": "markdown",
   "id": "743a2cb0-94dc-4793-933e-319a6c0ca58d",
   "metadata": {},
   "source": [
    "# Create a spark session"
   ]
  },
  {
   "cell_type": "code",
   "execution_count": 1,
   "id": "0dc93afb-af89-4c94-add5-614aa004646a",
   "metadata": {
    "scrolled": true
   },
   "outputs": [
    {
     "data": {
      "text/html": [
       "\n",
       "            <div>\n",
       "                <p><b>SparkSession - in-memory</b></p>\n",
       "                \n",
       "        <div>\n",
       "            <p><b>SparkContext</b></p>\n",
       "\n",
       "            <p><a href=\"http://jupyter-pyspark-483871-0.jupyter-pyspark-483871.user-inesh.svc.cluster.local:4040\">Spark UI</a></p>\n",
       "\n",
       "            <dl>\n",
       "              <dt>Version</dt>\n",
       "                <dd><code>v3.5.3</code></dd>\n",
       "              <dt>Master</dt>\n",
       "                <dd><code>k8s://https://kubernetes.default.svc:443</code></dd>\n",
       "              <dt>AppName</dt>\n",
       "                <dd><code>AIML4OS</code></dd>\n",
       "            </dl>\n",
       "        </div>\n",
       "        \n",
       "            </div>\n",
       "        "
      ],
      "text/plain": [
       "<pyspark.sql.session.SparkSession at 0x7f4824198d70>"
      ]
     },
     "execution_count": 1,
     "metadata": {},
     "output_type": "execute_result"
    }
   ],
   "source": [
    "# Import necessary libraries\n",
    "from pyspark.sql import SparkSession\n",
    "\n",
    "# Create a Spark session\n",
    "spark = SparkSession.builder \\\n",
    "    .appName(\"AIML4OS\") \\\n",
    "    .getOrCreate()\n",
    "\n",
    "# Verify the session\n",
    "spark\n"
   ]
  },
  {
   "cell_type": "markdown",
   "id": "b451dd58-a18a-4f56-b771-78955beeaf38",
   "metadata": {},
   "source": [
    "# Read the data from S3"
   ]
  },
  {
   "cell_type": "code",
   "execution_count": 2,
   "id": "5ce9178c-f063-4e87-b568-82ef83d6e342",
   "metadata": {},
   "outputs": [
    {
     "name": "stderr",
     "output_type": "stream",
     "text": [
      "                                                                                "
     ]
    },
    {
     "name": "stdout",
     "output_type": "stream",
     "text": [
      "+-----------------+----+----+\n",
      "|           ipondi|aged|dept|\n",
      "+-----------------+----+----+\n",
      "|0.865065781333387|  74|  01|\n",
      "| 4.98793114865391|  39|  01|\n",
      "| 4.98793114865391|   9|  01|\n",
      "| 5.01354653482522|  55|  01|\n",
      "| 3.47836794972965|   1|  01|\n",
      "+-----------------+----+----+\n",
      "only showing top 5 rows\n",
      "\n"
     ]
    }
   ],
   "source": [
    "df_census=spark.read.parquet(\"s3a://inesh/demo/fd-indcvi-2020.parquet\")\n",
    "df_census.select(\"ipondi\",\"aged\",\"dept\").show(5)"
   ]
  },
  {
   "cell_type": "code",
   "execution_count": null,
   "id": "ee8eb767-abb9-408a-8f51-ed00904dd1be",
   "metadata": {},
   "outputs": [],
   "source": [
    "# Do your transformations"
   ]
  },
  {
   "cell_type": "code",
   "execution_count": null,
   "id": "f85c6a9d-32cd-4f8a-824a-cec494793fd8",
   "metadata": {
    "scrolled": true
   },
   "outputs": [],
   "source": [
    "df_count_centenarians=spark.sql(\"\"\"\n",
    "    SELECT\n",
    "      CAST(ROUND(SUM(IPONDI), 0) AS INTEGER) AS individus_recenses,\n",
    "      DEPT\n",
    "    FROM {table_individu}\n",
    "      WHERE AGED >= 100\n",
    "    GROUP BY DEPT\n",
    "    ORDER BY individus_recenses DESC\n",
    "\"\"\", table_individu=df_census)\n",
    "df_count_centenarians"
   ]
  },
  {
   "cell_type": "code",
   "execution_count": null,
   "id": "af6e4721-3c3c-4b0a-8bdb-f44b15380e97",
   "metadata": {},
   "outputs": [],
   "source": [
    "# Write the results to s3"
   ]
  },
  {
   "cell_type": "code",
   "execution_count": null,
   "id": "94109a7d-5f7e-4f1b-a10a-e5664b6fd0d6",
   "metadata": {},
   "outputs": [],
   "source": [
    "df_count_centenarians.write.parquet(\"s3a://inesh/aiml4os/centenarians_by_dept\")"
   ]
  },
  {
   "cell_type": "code",
   "execution_count": null,
   "id": "6aa7101d-b9e6-46d8-8cd2-934510d26af9",
   "metadata": {},
   "outputs": [],
   "source": [
    "#spark.stop()"
   ]
  }
 ],
 "metadata": {
  "kernelspec": {
   "display_name": "Python 3 (ipykernel)",
   "language": "python",
   "name": "python3"
  },
  "language_info": {
   "codemirror_mode": {
    "name": "ipython",
    "version": 3
   },
   "file_extension": ".py",
   "mimetype": "text/x-python",
   "name": "python",
   "nbconvert_exporter": "python",
   "pygments_lexer": "ipython3",
   "version": "3.12.6"
  }
 },
 "nbformat": 4,
 "nbformat_minor": 5
}
